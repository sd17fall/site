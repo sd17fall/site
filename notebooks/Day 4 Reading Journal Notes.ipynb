{
 "cells": [
  {
   "cell_type": "markdown",
   "metadata": {},
   "source": [
    "### Day 4 Reading Journal Notes"
   ]
  },
  {
   "cell_type": "markdown",
   "metadata": {},
   "source": [
    "### Exercise 4  \n",
    "Write a function called `middle` that takes a list and returns a new list that contains all but the first and last elements. So `middle([1,2,3,4])` should return `[2,3]`."
   ]
  },
  {
   "cell_type": "markdown",
   "metadata": {},
   "source": [
    "#### The most common answer"
   ]
  },
  {
   "cell_type": "code",
   "execution_count": 1,
   "metadata": {},
   "outputs": [
    {
     "data": {
      "text/plain": [
       "[2, 3]"
      ]
     },
     "execution_count": 1,
     "metadata": {},
     "output_type": "execute_result"
    }
   ],
   "source": [
    "def middle(s):\n",
    "    return s[1:len(s)-1]\n",
    "\n",
    "middle([1,2,3,4,])"
   ]
  },
  {
   "cell_type": "markdown",
   "metadata": {},
   "source": [
    "#### A more cumbersome method, but works?"
   ]
  },
  {
   "cell_type": "code",
   "execution_count": 8,
   "metadata": {},
   "outputs": [
    {
     "name": "stdout",
     "output_type": "stream",
     "text": [
      "[2, 3]\n",
      "[5, 3]\n"
     ]
    }
   ],
   "source": [
    "def middle(lst):\n",
    "    new = []\n",
    "    for x in range(0, len(lst)):\n",
    "        new.append(lst[x])\n",
    "    new.remove(new[0])\n",
    "    new.remove(new[-1])\n",
    "    return new\n",
    "print(middle([1,2,3,4]))\n",
    "print(middle([1,5,3,4]))"
   ]
  },
  {
   "cell_type": "markdown",
   "metadata": {},
   "source": [
    "#### Careful about return types: `[[2, 3]] != [2,3]`"
   ]
  },
  {
   "cell_type": "code",
   "execution_count": 3,
   "metadata": {},
   "outputs": [
    {
     "data": {
      "text/plain": [
       "[[2, 3]]"
      ]
     },
     "execution_count": 3,
     "metadata": {},
     "output_type": "execute_result"
    }
   ],
   "source": [
    "def middle (random_list):\n",
    "    new_list = []\n",
    "    for element in random_list:\n",
    "        new_list = [random_list[1:-1]]\n",
    "    return new_list\n",
    "\n",
    "middle([1,2,3,4])"
   ]
  },
  {
   "cell_type": "markdown",
   "metadata": {},
   "source": [
    "### Improving readability\n",
    "\n",
    "Variable names and a docstring."
   ]
  },
  {
   "cell_type": "code",
   "execution_count": 6,
   "metadata": {},
   "outputs": [
    {
     "name": "stdout",
     "output_type": "stream",
     "text": [
      "[2, 3]\n",
      "[1, 2, 3, 4]\n"
     ]
    }
   ],
   "source": [
    "def middle(first_list):\n",
    "    \"\"\"\n",
    "    Takes a list and returns all but the first and the last elements.\n",
    "    \"\"\"\n",
    "    last_index = len(first_list) - 1\n",
    "    new_list = first_list[1:last_index] #this all could be one line but I like readability\n",
    "    return new_list\n",
    "\n",
    "my_list = [1,2,3,4]\n",
    "print(middle(my_list))\n",
    "print(my_list)"
   ]
  },
  {
   "cell_type": "markdown",
   "metadata": {},
   "source": [
    "#### Is this one correct?\n",
    "\n",
    "How can we write a unit test?"
   ]
  },
  {
   "cell_type": "code",
   "execution_count": null,
   "metadata": {},
   "outputs": [],
   "source": [
    "def middle(Input):\n",
    "    \"\"\"\n",
    "    Given a list, return a new list that contains all but the first and last elements.\n",
    "    \n",
    "    >>> L = [1, 2, 3, 4, 5]\n",
    "    >>> print(L)\n",
    "    [1, 2, 3, 4, 5]\n",
    "    >>> print(middle(L))\n",
    "    [2, 3, 4]\n",
    "    >>> print(L)\n",
    "    [1, 2, 3, 4, 5]\n",
    "    \"\"\"\n",
    "    if len(Input)>1:\n",
    "\n",
    "        List = Input\n",
    "        del List[0]\n",
    "        del List[-1]\n",
    "    \n",
    "        return List\n",
    "    else:\n",
    "        \n",
    "        return \"List is too short.\"\n",
    "\n",
    "import doctest\n",
    "doctest.run_docstring_examples(middle, globals(), verbose=False)\n",
    "\n",
    "#middle(['a', 'b'])\n",
    "#middle(['a'])"
   ]
  },
  {
   "cell_type": "markdown",
   "metadata": {},
   "source": [
    "Quick fix: make a copy of the input list using a slice:  `List = Input[:]`"
   ]
  },
  {
   "cell_type": "markdown",
   "metadata": {},
   "source": [
    "#### Using the copy module\n",
    "\n",
    "Slices are another way to go, but this will work."
   ]
  },
  {
   "cell_type": "code",
   "execution_count": 16,
   "metadata": {},
   "outputs": [
    {
     "name": "stdout",
     "output_type": "stream",
     "text": [
      "[1, 2, 3, 4, 5]\n",
      "[2, 3, 4]\n"
     ]
    },
    {
     "data": {
      "text/plain": [
       "[2, 3, 4]"
      ]
     },
     "execution_count": 16,
     "metadata": {},
     "output_type": "execute_result"
    }
   ],
   "source": [
    "original_list = [1, 2, 3, 4, 5]\n",
    "\n",
    "import copy\n",
    "def middle(original_list):\n",
    "    copied_list = []\n",
    "    copied_list = copy.copy(original_list)\n",
    "    del copied_list[0]\n",
    "    del copied_list[-1]\n",
    "    \n",
    "    print(original_list)\n",
    "    print(copied_list)\n",
    "    return copied_list\n",
    "    \n",
    "middle(original_list)"
   ]
  },
  {
   "cell_type": "markdown",
   "metadata": {},
   "source": [
    "#### Another correct solution, this one using pop"
   ]
  },
  {
   "cell_type": "code",
   "execution_count": 11,
   "metadata": {},
   "outputs": [
    {
     "name": "stdout",
     "output_type": "stream",
     "text": [
      "[1, 2, 'ads', 2, 35, 6, 63]\n"
     ]
    },
    {
     "data": {
      "text/plain": [
       "[2, 'ads', 2, 35, 6]"
      ]
     },
     "execution_count": 11,
     "metadata": {},
     "output_type": "execute_result"
    }
   ],
   "source": [
    "def middle(l):\n",
    "    new_list = l[:]\n",
    "    new_list.pop(0)\n",
    "    new_list.pop(len(new_list)-1)\n",
    "    print(l)\n",
    "    return new_list\n",
    "\n",
    "middle([1,2,'ads',2,35,6,63])"
   ]
  },
  {
   "cell_type": "markdown",
   "metadata": {},
   "source": [
    "#### Careful with Variable Names"
   ]
  },
  {
   "cell_type": "code",
   "execution_count": 12,
   "metadata": {},
   "outputs": [
    {
     "name": "stdout",
     "output_type": "stream",
     "text": [
      "[2, 7, 1]\n"
     ]
    }
   ],
   "source": [
    "def middle(list):\n",
    "    new_list = list[1:len(list)-1]\n",
    "    return new_list\n",
    "print(middle([9,2,7,1,4]))"
   ]
  },
  {
   "cell_type": "markdown",
   "metadata": {},
   "source": [
    "#### Another way to make a copy of a List???"
   ]
  },
  {
   "cell_type": "code",
   "execution_count": null,
   "metadata": {
    "collapsed": true
   },
   "outputs": [],
   "source": [
    "def middle(L):\n",
    "    res = list(L)\n",
    "    res.pop(0)\n",
    "    res.pop(-1)\n",
    "    return res\n",
    "\n",
    "print(middle([1,2,3,4]))\n",
    "print(middle([2,\"hello\",5,'Hi']))"
   ]
  },
  {
   "cell_type": "markdown",
   "metadata": {},
   "source": [
    "### Exercise 5  \n",
    "Write a function called `chop` that takes a list, modifies it by removing the first and last elements, and returns `None`.\n",
    "\n",
    "What is the difference between `middle` and `chop`? Sketch out the program state or take a look at each in Python Tutor."
   ]
  },
  {
   "cell_type": "markdown",
   "metadata": {},
   "source": [
    "#### This looks okay, but we haven't really tested it yet\n",
    "\n",
    "How can we see whether or not this is correct?"
   ]
  },
  {
   "cell_type": "code",
   "execution_count": 12,
   "metadata": {},
   "outputs": [
    {
     "name": "stdout",
     "output_type": "stream",
     "text": [
      "[1, 2, 3, 4]\n"
     ]
    }
   ],
   "source": [
    "def chop(lst):\n",
    "    lst = lst[1:len(lst)-1]\n",
    "L = [1, 2, 3, 4]\n",
    "chop(L)\n",
    "print(L)"
   ]
  },
  {
   "cell_type": "markdown",
   "metadata": {},
   "source": [
    "To better understand what is happening here we will draw some state diagrams and stack diagrams."
   ]
  },
  {
   "cell_type": "markdown",
   "metadata": {},
   "source": [
    "#### This seems better, is it correct?"
   ]
  },
  {
   "cell_type": "code",
   "execution_count": null,
   "metadata": {
    "collapsed": true
   },
   "outputs": [],
   "source": [
    "def chop(list):\n",
    "    list.remove(list[0])\n",
    "    list.remove(list[-1])\n",
    "    return None\n",
    "middle([1,2,3,4])"
   ]
  },
  {
   "cell_type": "markdown",
   "metadata": {},
   "source": [
    "#### How about this one?\n",
    "\n",
    "We have a minor quibble over variable names."
   ]
  },
  {
   "cell_type": "code",
   "execution_count": 20,
   "metadata": {},
   "outputs": [
    {
     "name": "stdout",
     "output_type": "stream",
     "text": [
      "[2, 3]\n"
     ]
    }
   ],
   "source": [
    "def chop(list_numbers):\n",
    "    del list_numbers[0]\n",
    "    del list_numbers[-1]\n",
    "    print(list_numbers)\n",
    "    \n",
    "chop([1,2,3,4])"
   ]
  },
  {
   "cell_type": "markdown",
   "metadata": {},
   "source": [
    "#### del can also handle list slices"
   ]
  },
  {
   "cell_type": "code",
   "execution_count": 18,
   "metadata": {},
   "outputs": [
    {
     "name": "stdout",
     "output_type": "stream",
     "text": [
      "None\n",
      "[6, 3, 8, 0, 2]\n"
     ]
    }
   ],
   "source": [
    "X = [3,6,3,8,0,2,5]\n",
    "def chop(List):\n",
    "    del List[:1]\n",
    "    del List[-1:]\n",
    "    \n",
    "print(chop(X))\n",
    "print(X)"
   ]
  },
  {
   "cell_type": "markdown",
   "metadata": {},
   "source": [
    "### Exercise 7  \n",
    "Two words are anagrams if you can rearrange the letters from one to spell the other. Write a function called `is_anagram` that takes two strings and returns `True` if they are anagrams."
   ]
  },
  {
   "cell_type": "markdown",
   "metadata": {},
   "source": [
    "#### Let's decide if each of these is correct"
   ]
  },
  {
   "cell_type": "markdown",
   "metadata": {},
   "source": [
    "Minor issue with doctest here.  Let's run it with verbose = True"
   ]
  },
  {
   "cell_type": "code",
   "execution_count": 12,
   "metadata": {},
   "outputs": [],
   "source": [
    "def is_anagram(string_one, string_two):\n",
    "    \"\"\"\n",
    "    Takes input two strings and returns True is they are anagrams\n",
    "    \n",
    "    >>> is_anagram(\"car\", \"arc\")\n",
    "    True\n",
    "    >>> is_anagram(\"blah\", \"nope\")\n",
    "    False\n",
    "    \"\"\"\n",
    "    if len(string_one) == len(string_two):  # words are the same length\n",
    "        for letter in string_one:\n",
    "            if letter in string_two:\n",
    "                return True\n",
    "        return False\n",
    "\n",
    "import doctest\n",
    "doctest.run_docstring_examples(is_anagram, globals(), verbose=False)"
   ]
  },
  {
   "cell_type": "markdown",
   "metadata": {},
   "source": [
    "Passes tests, but we don't have enough coverage. For example, what if we add:\n",
    "\n",
    "```\n",
    "    >>> is_anagram(\"cat\", \"cap\")\n",
    "    False\n",
    "    >>> is_anagram(\"ab\", \"aaaab\")\n",
    "    False\n",
    "```"
   ]
  },
  {
   "cell_type": "code",
   "execution_count": 13,
   "metadata": {},
   "outputs": [
    {
     "name": "stdout",
     "output_type": "stream",
     "text": [
      "Finding tests in NoName\n",
      "Trying:\n",
      "    is_anagram(\"ab\", \"aaaab\")\n",
      "Expecting:\n",
      "    False\n",
      "**********************************************************************\n",
      "File \"__main__\", line 3, in NoName\n",
      "Failed example:\n",
      "    is_anagram(\"ab\", \"aaaab\")\n",
      "Expected:\n",
      "    False\n",
      "Got:\n",
      "    True\n"
     ]
    }
   ],
   "source": [
    "def is_anagram(o,t):\n",
    "    \"\"\"\n",
    "    >>> is_anagram(\"ab\", \"aaaab\")\n",
    "    False\n",
    "    \"\"\"\n",
    "    if o.strip(t) == '':\n",
    "        return True\n",
    "    else:\n",
    "        return False\n",
    "\n",
    "is_anagram('banana','popcorn')\n",
    "is_anagram('banana','nabana')\n",
    "\n",
    "import doctest\n",
    "doctest.run_docstring_examples(is_anagram, globals(), verbose=True)"
   ]
  },
  {
   "cell_type": "code",
   "execution_count": 16,
   "metadata": {},
   "outputs": [
    {
     "name": "stdout",
     "output_type": "stream",
     "text": [
      "Finding tests in NoName\n",
      "Trying:\n",
      "    is_anagram('z', 'z')\n",
      "Expecting:\n",
      "    True\n",
      "ok\n",
      "Trying:\n",
      "    is_anagram('c', 'b')\n",
      "Expecting:\n",
      "    False\n",
      "ok\n",
      "Trying:\n",
      "    is_anagram('earth','heart')\n",
      "Expecting:\n",
      "    True\n",
      "ok\n",
      "Trying:\n",
      "    is_anagram('chicken','butt')\n",
      "Expecting:\n",
      "    False\n",
      "ok\n"
     ]
    }
   ],
   "source": [
    "def is_anagram(string1, string2):\n",
    "    \"\"\"\n",
    "    This function will use the split and sort command to check to see whether one string contains all the letters of the other string.\n",
    "    \n",
    "    >>> is_anagram('z', 'z')\n",
    "    True\n",
    "    >>> is_anagram('c', 'b')\n",
    "    False\n",
    "    >>> is_anagram('earth','heart')\n",
    "    True\n",
    "    >>> is_anagram('chicken','butt')\n",
    "    False\n",
    "    \"\"\"\n",
    "    \n",
    "    string1_list = list(string1)\n",
    "    string1_list.sort()\n",
    "    string2_list = list(string2)\n",
    "    string2_list.sort()\n",
    "    \n",
    "    for i in range(len(string1_list)):\n",
    "        if not string1_list[i] == string2_list[i]:\n",
    "            return False\n",
    "    return True    \n",
    "\n",
    "\n",
    "\n",
    "doctest.run_docstring_examples(is_anagram, globals(),verbose=True)  "
   ]
  },
  {
   "cell_type": "code",
   "execution_count": 17,
   "metadata": {},
   "outputs": [
    {
     "name": "stdout",
     "output_type": "stream",
     "text": [
      "Finding tests in NoName\n",
      "Trying:\n",
      "    anagrams(\"ab\", \"aaaab\")\n",
      "Expecting:\n",
      "    False\n",
      "ok\n"
     ]
    }
   ],
   "source": [
    "def anagrams(first, second):\n",
    "    \"\"\"\n",
    "    >>> anagrams(\"ab\", \"aaaab\")\n",
    "    False\n",
    "    \"\"\"\n",
    "\n",
    "    if len(first) == len(second):\n",
    "        for i in range(0,len(second)):\n",
    "            if first[i] in second:\n",
    "                continue\n",
    "            else:\n",
    "                return False\n",
    "    else:\n",
    "        return False \n",
    "    return True\n",
    "\n",
    "doctest.run_docstring_examples(anagrams, globals(),verbose=True)  \n",
    "#anagrams('apple', 'paple')"
   ]
  },
  {
   "cell_type": "code",
   "execution_count": null,
   "metadata": {
    "collapsed": true
   },
   "outputs": [],
   "source": [
    "def is_anagram(string1, string2):\n",
    "    if len(string1) != len(string2):\n",
    "        return False\n",
    "    for letter in string1:\n",
    "        if letter not in string2:\n",
    "            return False\n",
    "    for letter in string2:\n",
    "        if letter not in string1:\n",
    "            return False\n",
    "    return True\n",
    "\n",
    "print(is_anagram('dog', 'god'))\n",
    "print(is_anagram('dog', 'cat'))\n",
    "print(is_anagram('dogg', 'doog')) #lolnope"
   ]
  },
  {
   "cell_type": "code",
   "execution_count": null,
   "metadata": {
    "collapsed": true
   },
   "outputs": [],
   "source": [
    "def is_anagram (x, y): \n",
    "    list_a = []   #Converting from a string to a list\n",
    "    list_b = []   #For both x and y. \n",
    "    \n",
    "    for i in x:\n",
    "        list_a.append(i) #Putting the elements of the string x into list a.\n",
    "    \n",
    "    for i in y:\n",
    "        list_b.append(i) #Putting the elements of the string y into list b.\n",
    "        \n",
    "    #This part was checked with a print statement.\n",
    " \n",
    "    list_a.sort() #Modifies the list itself, does not return a value. \n",
    "    list_b.sort() #But for both, this function arranges the letters so that if it were an anagram they would be in the same order, which is from least to greatest in terms of their place in the alphabet.\n",
    "    \n",
    "    if list_a == list_b: #Rhis if statement compares the resulting lists from list sort. If they are the same, they contain the same letters, which would mean the words are anagrams. \n",
    "        ret`urn True \n",
    "    else:\n",
    "        return False\n",
    "    \n",
    "is_anagram ('love','vole')"
   ]
  },
  {
   "cell_type": "code",
   "execution_count": null,
   "metadata": {
    "collapsed": true
   },
   "outputs": [],
   "source": [
    "def is_anagram (x,y):\n",
    "    x = list(x)\n",
    "    y = list(y)\n",
    "    x.sort()\n",
    "    y.sort()\n",
    "    if x == y:\n",
    "        return True\n",
    "\n",
    "\n",
    "is_anagram('bat', 'tab')"
   ]
  },
  {
   "cell_type": "code",
   "execution_count": null,
   "metadata": {
    "collapsed": true
   },
   "outputs": [],
   "source": [
    "def anagrams(String1, String2):\n",
    "    \"\"\"\n",
    "    Given two string inputs, checks to see if they are anagrams.\n",
    "    >>>anagrams('tab', 'bat')\n",
    "    True\n",
    "    >>>anagrams('lad', 'bad')\n",
    "    False\n",
    "    \"\"\"\n",
    "    for letter in String1:\n",
    "        if letter in String2:\n",
    "            return True\n",
    "        else:\n",
    "            return False\n",
    "        \n",
    "anagrams('tab', 'bad')\n",
    "import doctest\n",
    "doctest.run_docstring_examples(chop, globals())"
   ]
  },
  {
   "cell_type": "code",
   "execution_count": null,
   "metadata": {
    "collapsed": true
   },
   "outputs": [],
   "source": [
    "def is_anagram(s1, s2):\n",
    "    s1 = s1.lower()\n",
    "    s2 = s2.lower()\n",
    "    s1 = s1.replace(\" \", \"\")\n",
    "    s2 = s2.replace(\" \", \"\")\n",
    "\n",
    "    l2 = list(s2)\n",
    "    for letter in s1:\n",
    "        if letter in l2:\n",
    "            l2.remove(letter)\n",
    "        else:\n",
    "            return False\n",
    "    if len(l2) == 0:\n",
    "        return True\n",
    "    else:\n",
    "        return False\n",
    "\n",
    "is_anagram('iceman    ', 'cinema')"
   ]
  },
  {
   "cell_type": "markdown",
   "metadata": {},
   "source": [
    "#### Based on these answers, what is a good comprehensive list of unit tests?"
   ]
  },
  {
   "cell_type": "markdown",
   "metadata": {},
   "source": [
    "### Exercise 8  \n",
    "The (so-called) Birthday Paradox:\n",
    "1. Write a function called `has_duplicates` that takes a list and returns `True` if there is any element that appears more than once. It should not modify the original list.\n",
    "2. If there are 23 students in your class, what are the chances that two of you have the same birthday? You can estimate this probability by generating random samples of 23 birthdays and checking for matches. Hint: you can generate random birthdays with the randint function in the [random module](https://docs.python.org/2/library/random.html).\n",
    "\n",
    "You can read about this problem at http://en.wikipedia.org/wiki/Birthday_paradox, and you can download Allen's solution from http://thinkpython.com/code/birthday.py."
   ]
  },
  {
   "cell_type": "markdown",
   "metadata": {},
   "source": [
    "Most of the interesting differences here were in the has_duplicates function.  Let's start there, and then look at a few people's complete code."
   ]
  },
  {
   "cell_type": "code",
   "execution_count": 36,
   "metadata": {
    "collapsed": true
   },
   "outputs": [],
   "source": [
    "def has_duplicates(lst):\n",
    "    newlist = []\n",
    "    for e in lst:\n",
    "        if e in newlist:\n",
    "            return True\n",
    "        else:\n",
    "            newlist.append(e)\n",
    "    return False"
   ]
  },
  {
   "cell_type": "code",
   "execution_count": null,
   "metadata": {
    "collapsed": true
   },
   "outputs": [],
   "source": [
    "def has_duplicates(g):\n",
    "    number = 0\n",
    "    for birthday in g:   #run through every birthday\n",
    "        for others in g:    #run throguh the other birthdays\n",
    "            if birthday == others:   #how many bdays does it match?\n",
    "                number += 1\n",
    "        #print number\n",
    "    if number > len(g):     #if the number is greater than 23\n",
    "        return True         #then there was at least one duplicate\n",
    "    else:\n",
    "        return False"
   ]
  },
  {
   "cell_type": "code",
   "execution_count": null,
   "metadata": {
    "collapsed": true
   },
   "outputs": [],
   "source": [
    "def has_duplicates(input_list):\n",
    "    check = []\n",
    "    for i in input_list:\n",
    "        if i not in check:\n",
    "            check.append(i)\n",
    "    if len(check) < len(input_list):\n",
    "        return True\n",
    "    else:\n",
    "        return False"
   ]
  },
  {
   "cell_type": "code",
   "execution_count": null,
   "metadata": {
    "collapsed": true
   },
   "outputs": [],
   "source": [
    "def has_duplicates(list_things):\n",
    "    list_things.sort()\n",
    "    flag = False\n",
    "    for index in range(1, len(list_things)):\n",
    "        flag = flag or list_things[index] == list_things[index-1]\n",
    "    return flag\n",
    "            \n",
    "has_duplicates([0,1,2,4, 3, 3, 3])"
   ]
  },
  {
   "cell_type": "markdown",
   "metadata": {},
   "source": [
    "Careful with variable scope."
   ]
  },
  {
   "cell_type": "code",
   "execution_count": null,
   "metadata": {
    "collapsed": true
   },
   "outputs": [],
   "source": [
    "def has_duplicates(random_list):\n",
    "    birthdays_sorted = sorted(birthdays)\n",
    "    for i in range(1,len(random_list)):\n",
    "        if random_list[i-1] == random_list[i]:\n",
    "            return True\n",
    "    return False"
   ]
  },
  {
   "cell_type": "code",
   "execution_count": null,
   "metadata": {
    "collapsed": true
   },
   "outputs": [],
   "source": [
    "def has_duplicates(my_list):\n",
    "    \"\"\"\n",
    "    Checks for duplicates in a list\n",
    "    \"\"\"\n",
    "    for i in range(len(my_list)):\n",
    "        if my_list[i] in my_list[i + 1:]:\n",
    "            return True\n",
    "    return False"
   ]
  },
  {
   "cell_type": "code",
   "execution_count": null,
   "metadata": {
    "collapsed": true
   },
   "outputs": [],
   "source": [
    "def has_duplicates(birthdays):\n",
    "    \"\"\"\n",
    "    >>> has_duplicates([1,2,3,3,4])\n",
    "    True\n",
    "    >>> has_duplicates([\"one\",\"two\",\"banana\"])\n",
    "    False\n",
    "    \"\"\"\n",
    "    for i in range(0,len(birthdays)):\n",
    "        for j in range(0,i):\n",
    "            if birthdays[i] == birthdays[j]:\n",
    "                return True\n",
    "    return False"
   ]
  },
  {
   "cell_type": "markdown",
   "metadata": {},
   "source": [
    "What do we think about the line `items = l[:]`"
   ]
  },
  {
   "cell_type": "code",
   "execution_count": 37,
   "metadata": {},
   "outputs": [
    {
     "name": "stdout",
     "output_type": "stream",
     "text": [
      "0.511\n"
     ]
    },
    {
     "data": {
      "text/plain": [
       "TestResults(failed=0, attempted=2)"
      ]
     },
     "execution_count": 37,
     "metadata": {},
     "output_type": "execute_result"
    }
   ],
   "source": [
    "import random\n",
    "\n",
    "def has_duplicates(l):\n",
    "    \"\"\"\n",
    "    Tests if a list contains duplicate values. Returns True if so.\n",
    "    \n",
    "    >>> has_duplicates([1,2,3,4,5])\n",
    "    False\n",
    "    >>> has_duplicates([1,2,3,4,2])\n",
    "    True\n",
    "    \n",
    "    \"\"\"\n",
    "    items = l[:]\n",
    "    items.sort()\n",
    "    i = 1\n",
    "    while i < len(items):\n",
    "        if items[i] == items[i-1]:\n",
    "            return True\n",
    "        i += 1\n",
    "    return False\n",
    "\n",
    "def generate_birthdays(length):\n",
    "    \"\"\"\n",
    "    Generates a list of random integers between 1 and 365.\n",
    "    \"\"\"\n",
    "    result = []\n",
    "    for i in range(length):\n",
    "        result.append(random.randint(1, 365))\n",
    "    return result\n",
    "\n",
    "def probability_of_duplicates(n):\n",
    "    \"\"\"\n",
    "    Empirically estimates the chance that a group of n people will\n",
    "    contain at least one pair with the same birthday.\n",
    "    \"\"\"\n",
    "    count = 0\n",
    "    for i in range(1000):\n",
    "        birthdays = generate_birthdays(n)\n",
    "        if has_duplicates(birthdays):\n",
    "            count += 1\n",
    "    return count/1000.\n",
    "\n",
    "print(probability_of_duplicates(23))\n",
    "\n",
    "import doctest\n",
    "doctest.testmod()"
   ]
  },
  {
   "cell_type": "code",
   "execution_count": null,
   "metadata": {
    "collapsed": true
   },
   "outputs": [],
   "source": [
    "import random\n",
    "\n",
    "def has_duplicates(t):\n",
    "    element_tracker = []\n",
    "    for item in t:\n",
    "        if item in element_tracker:\n",
    "            return True\n",
    "        element_tracker.append(item)\n",
    "    return False\n",
    "\n",
    "i = 0\n",
    "j = 0\n",
    "birthdays = []\n",
    "duplicates = []\n",
    "\n",
    "while i < 100:\n",
    "    while j < 23:\n",
    "        birthdays.append(random.randint(0,365)) #birthday represented as one of 365 days\n",
    "        j += 1\n",
    "    \n",
    "    duplicates.append(has_duplicates(birthdays))\n",
    "    birthdays = []\n",
    "    i += 1\n",
    "    j = 0\n",
    "\n",
    "print(duplicates.count(True)) #Should be ~50"
   ]
  }
 ],
 "metadata": {
  "kernelspec": {
   "display_name": "Python 3",
   "language": "python",
   "name": "python3"
  },
  "language_info": {
   "codemirror_mode": {
    "name": "ipython",
    "version": 3
   },
   "file_extension": ".py",
   "mimetype": "text/x-python",
   "name": "python",
   "nbconvert_exporter": "python",
   "pygments_lexer": "ipython3",
   "version": "3.6.4"
  }
 },
 "nbformat": 4,
 "nbformat_minor": 1
}
