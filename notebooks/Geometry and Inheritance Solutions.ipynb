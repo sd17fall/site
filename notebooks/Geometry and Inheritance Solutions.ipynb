{
 "cells": [
  {
   "cell_type": "markdown",
   "metadata": {},
   "source": [
    "# Inheritance Example: 2D Geometry (Solutions)\n",
    "\n",
    "The classes below represent simple 2D shapes."
   ]
  },
  {
   "cell_type": "markdown",
   "metadata": {},
   "source": [
    "1.  Simplify the code using inheritance.  You can either cut-and-paste the code  and modify it in the cell below, or modify the original code."
   ]
  },
  {
   "cell_type": "code",
   "execution_count": 1,
   "metadata": {},
   "outputs": [
    {
     "data": {
      "text/plain": [
       "TestResults(failed=0, attempted=5)"
      ]
     },
     "execution_count": 1,
     "metadata": {},
     "output_type": "execute_result"
    }
   ],
   "source": [
    "from math import sqrt\n",
    "\n",
    "class Polygon(object):\n",
    "    \"\"\" Represents a polygon in 2D \"\"\"\n",
    "    def __init__(self, vertices):\n",
    "        \"\"\" Initialize a polygon from a list of vertices, where each\n",
    "            vertex is represented as an (x, y) tuple.\n",
    "            \n",
    "            vertices: the vertices of the polygone (note: vertices\n",
    "                      are assumed to be in counterclockwise order) \"\"\"\n",
    "        self.vertices = vertices\n",
    "    \n",
    "    def get_area(self):\n",
    "        \"\"\"\n",
    "        >>> Polygon([(0, 0), (200, 0), (200, 300), (0, 300)]).get_area()\n",
    "        60000.0\n",
    "        \"\"\"\n",
    "        # Using formula from http://mathworld.wolfram.com/PolygonArea.html\n",
    "        area = 0.0\n",
    "        for i, v_i in enumerate(self.vertices):\n",
    "            v_i_plus_1 = self.vertices[(i+1) % len(self.vertices)]\n",
    "            area += 0.5*(v_i[0]*v_i_plus_1[1] - v_i[1]*v_i_plus_1[0])\n",
    "        return area\n",
    "\n",
    "    def get_side_lengths(self):\n",
    "        \"\"\" Returns a list of all the side lengths in the Polygon\n",
    "        \n",
    "        >>> Polygon([(0, 0), (200, 0), (200, 300), (0, 300)]).get_side_lengths()\n",
    "        [200.0, 300.0, 200.0, 300.0]\n",
    "        \"\"\"\n",
    "        side_lengths = []\n",
    "        for i, v_i in enumerate(self.vertices):\n",
    "            v_i_plus_1 = self.vertices[(i+1) % len(self.vertices)]\n",
    "            # calculate side_length using the Pythagorean theorem\n",
    "            side_length = sqrt((v_i[0] - v_i_plus_1[0])**2 + (v_i[1] - v_i_plus_1[1])**2)\n",
    "            side_lengths.append(side_length)\n",
    "        return side_lengths\n",
    "    \n",
    "class Rectangle(Polygon):\n",
    "    \"\"\" Represents a rectangle in 2D\n",
    "    \n",
    "        >>> Rectangle(3, 5, 100, 20).get_area()\n",
    "        2000.0\n",
    "    \"\"\"\n",
    "\n",
    "    def __init__(self, x1, y1, width, height):\n",
    "        \"\"\" Initialize a rectangle from the upper left corner vertex and\n",
    "            its width and height.\n",
    "            \n",
    "            x1: x-coordinate of the upper left corner of the rectangle\n",
    "            y1: y-coordinate of the upper left corner of the rectangle\n",
    "            width: width of the rectangle\n",
    "            height: height of the rectangle\n",
    "        \"\"\"\n",
    "        super().__init__([(x1, y1), (x1 + width, y1), (x1 + width, y1 + height), (x1, y1 + height)])\n",
    "\n",
    "class Triangle(Polygon):\n",
    "    \"\"\" Represents a triangle in 2D\n",
    "\n",
    "        >>> Triangle(0.0, 0.0, 10.0, 0.0, 0.0, 5.0).get_area()\n",
    "        25.0\n",
    "    \"\"\"\n",
    "\n",
    "    def __init__(self, x1, y1, x2, y2, x3, y3):\n",
    "        \"\"\" Initialize a triangle from its three vertices.  The vertices\n",
    "            are assumed to be in counterclockwise order.\n",
    "            \n",
    "            x1: x-coordinate of the first vertex of the triangle\n",
    "            y1: y-coordinate of the first vertex of the triangle\n",
    "            x2: x-coordinate of the second vertex of the triangle\n",
    "            y2: y-coordinate of the second vertex of the triangle\n",
    "            x3: x-coordinate of the third vertex of the triangle\n",
    "            y3: y-coordinate of the third vertex of the triangle\n",
    "        \"\"\"\n",
    "        super().__init__([(x1, y1), (x2, y2), (x3, y3)])\n",
    "\n",
    "class Square(Rectangle):\n",
    "    \"\"\" Represents a square in 2D\n",
    "\n",
    "        >>> Square(1.0, 3.0, 50.0).get_area()\n",
    "        2500.0\n",
    "    \"\"\"\n",
    "\n",
    "    def __init__(self, x1, y1, side_length):\n",
    "        \"\"\" Initialize a square from the upper left corner vertex and\n",
    "            its side length.\n",
    "            \n",
    "            x1: x-coordinate of the upper left corner of the rectangle\n",
    "            y1: y-coordinate of the upper left corner of the rectangle\n",
    "            side_length: side length of the square\n",
    "        \"\"\"\n",
    "        super().__init__(x1, y1, side_length, side_length)\n",
    "\n",
    "\n",
    "import doctest\n",
    "doctest.testmod()"
   ]
  },
  {
   "cell_type": "markdown",
   "metadata": {},
   "source": [
    "<ol start=\"2\">\n",
    "<li>Create a right triangle class (make sure to use inheritance!)</li>\n",
    "<li>Add a function called `get_hypotenuse_length` to your right triangle class.</li>\n",
    "</ol>"
   ]
  },
  {
   "cell_type": "code",
   "execution_count": 2,
   "metadata": {},
   "outputs": [
    {
     "data": {
      "text/plain": [
       "TestResults(failed=0, attempted=6)"
      ]
     },
     "execution_count": 2,
     "metadata": {},
     "output_type": "execute_result"
    }
   ],
   "source": [
    "class RightTriangle(Triangle):\n",
    "    \"\"\"\n",
    "    Represents a right triangle in 2D\n",
    "    \n",
    "    Note: the __init__ method takes three vertices (just like for the normal Triangle class),\n",
    "          however, in this class we check to make sure the vertices actually represent\n",
    "          a right triangle.\n",
    "\n",
    "    >>> RightTriangle(0, 0, 3, 0, 0, 4).get_hypotenuse_length()\n",
    "    5.0\n",
    "    \"\"\"\n",
    "    def __init__(self, x1, y1, x2, y2, x3, y3):\n",
    "        super().__init__(x1, y1, x2, y2, x3, y3)\n",
    "        l = self.get_side_lengths()\n",
    "\n",
    "        # make sure it's a right triangle by seeing if the Pythagorean theorem is satisfied\n",
    "        if (l[0]**2 != l[1]**2 + l[2]**2 and\n",
    "            l[1]**2 != l[0]**2 + l[2]**2 and\n",
    "            l[2]**2 != l[0]**2 + l[1]**2):\n",
    "            raise ValueError('The specified triangle is not a right triangle')\n",
    "    \n",
    "    def get_hypotenuse_length(self):\n",
    "        return max(self.get_side_lengths())\n",
    "\n",
    "doctest.testmod()"
   ]
  }
 ],
 "metadata": {
  "kernelspec": {
   "display_name": "Python 3",
   "language": "python",
   "name": "python3"
  },
  "language_info": {
   "codemirror_mode": {
    "name": "ipython",
    "version": 3
   },
   "file_extension": ".py",
   "mimetype": "text/x-python",
   "name": "python",
   "nbconvert_exporter": "python",
   "pygments_lexer": "ipython3",
   "version": "3.6.3"
  }
 },
 "nbformat": 4,
 "nbformat_minor": 2
}
