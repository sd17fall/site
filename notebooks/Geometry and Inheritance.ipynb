{
 "cells": [
  {
   "cell_type": "markdown",
   "metadata": {},
   "source": [
    "# Inheritance Example: 2D Geometry\n",
    "\n",
    "The classes below represent simple 2D shapes.  Currently the only supported functionality is `get_area`, but more could be added."
   ]
  },
  {
   "cell_type": "code",
   "execution_count": 1,
   "metadata": {},
   "outputs": [
    {
     "data": {
      "text/plain": [
       "TestResults(failed=0, attempted=4)"
      ]
     },
     "execution_count": 1,
     "metadata": {},
     "output_type": "execute_result"
    }
   ],
   "source": [
    "class Rectangle(object):\n",
    "    \"\"\" Represents a rectangle in 2D \"\"\"\n",
    "\n",
    "    def __init__(self, x1, y1, width, height):\n",
    "        \"\"\" Initialize a rectangle from the upper left corner vertex and\n",
    "            its width and height.\n",
    "            \n",
    "            x1: x-coordinate of the upper left corner of the rectangle\n",
    "            y1: y-coordinate of the upper left corner of the rectangle\n",
    "            width: width of the rectangle\n",
    "            height: height of the rectangle\n",
    "        \"\"\"\n",
    "        self.x1 = x1\n",
    "        self.y1 = y1\n",
    "        self.width = width\n",
    "        self.height = height\n",
    "    \n",
    "    def get_area(self):\n",
    "        \"\"\"\n",
    "        >>> Rectangle(1.0, 3.0, 100.0, 50.0).get_area()\n",
    "        5000.0\n",
    "        \"\"\"\n",
    "        return self.width*self.height\n",
    "\n",
    "class Triangle(object):\n",
    "    \"\"\" Represents a triangle in 2D \"\"\"\n",
    "\n",
    "    def __init__(self, x1, y1, x2, y2, x3, y3):\n",
    "        \"\"\" Initialize a triangle from its three vertices.  The vertices\n",
    "            are assumed to be in counterclockwise order.\n",
    "            \n",
    "            x1: x-coordinate of the first vertex of the triangle\n",
    "            y1: y-coordinate of the first vertex of the triangle\n",
    "            x2: x-coordinate of the second vertex of the triangle\n",
    "            y2: y-coordinate of the second vertex of the triangle\n",
    "            x3: x-coordinate of the third vertex of the triangle\n",
    "            y3: y-coordinate of the third vertex of the triangle\n",
    "        \"\"\"\n",
    "        self.x1 = x1\n",
    "        self.y1 = y1\n",
    "        self.x2 = x2\n",
    "        self.y2 = y2\n",
    "        self.x3 = x3\n",
    "        self.y3 = y3\n",
    "    \n",
    "    def get_area(self):\n",
    "        \"\"\"\n",
    "        >>> Triangle(0.0, 0.0, 10.0, 0.0, 0.0, 5.0).get_area()\n",
    "        25.0\n",
    "        \"\"\"\n",
    "        # using formula from http://mathworld.wolfram.com/TriangleArea.html\n",
    "        return 0.5*(-self.x2*self.y1 +\n",
    "                    self.x3*self.y1 +\n",
    "                    self.x1*self.y2 -\n",
    "                    self.x3*self.y2 -\n",
    "                    self.x1*self.y3 +\n",
    "                    self.x2*self.y3)\n",
    "\n",
    "class Square(object):\n",
    "    \"\"\" Represents a square in 2D \"\"\"\n",
    "\n",
    "    def __init__(self, x1, y1, side_length):\n",
    "        \"\"\" Initialize a square from the upper left corner vertex and\n",
    "            its side length.\n",
    "            \n",
    "            x1: x-coordinate of the upper left corner of the rectangle\n",
    "            y1: y-coordinate of the upper left corner of the rectangle\n",
    "            side_length: side length of the square\n",
    "        \"\"\"\n",
    "        self.x1 = x1\n",
    "        self.y1 = y1\n",
    "        self.side_length = side_length\n",
    "    \n",
    "    def get_area(self):\n",
    "        \"\"\"\n",
    "        >>> Square(1.0, 3.0, 50.0).get_area()\n",
    "        2500.0\n",
    "        \"\"\"\n",
    "        return self.side_length**2\n",
    "\n",
    "class Polygon(object):\n",
    "    \"\"\" Represents a polygon in 2D \"\"\"\n",
    "    def __init__(self, vertices):\n",
    "        \"\"\" Initialize a polygon from a list of vertices, where each\n",
    "            vertex is represented as an (x, y) tuple.\n",
    "            \n",
    "            vertices: the vertices of the polygone (note: vertices\n",
    "                      are assumed to be in counterclockwise order \"\"\"\n",
    "        self.vertices = vertices\n",
    "    \n",
    "    def get_area(self):\n",
    "        \"\"\"\n",
    "        >>> Polygon([(0, 0), (200, 0), (200, 300), (0, 300)]).get_area()\n",
    "        60000.0\n",
    "        \"\"\"\n",
    "        # Using formula from http://mathworld.wolfram.com/PolygonArea.html\n",
    "        area = 0.0\n",
    "        for i, v_i in enumerate(self.vertices):\n",
    "            v_i_plus_1 = self.vertices[(i+1) % len(self.vertices)]\n",
    "            area += 0.5*(v_i[0]*v_i_plus_1[1] - v_i[1]*v_i_plus_1[0])\n",
    "        return area\n",
    "\n",
    "import doctest\n",
    "doctest.testmod()"
   ]
  },
  {
   "cell_type": "markdown",
   "metadata": {},
   "source": [
    "1.  Simplify the code above using inheritance.  You can either cut-and-paste the code  and modify it in the cell below, or modify the original code.\n",
    "\n",
    "Hint 1: you will want to modify the `__init__` methods to invoke the `__init__` methods of the super class.  To do so, you can use the following code in your `__init__` method.\n",
    "\n",
    "```python\n",
    "# argument1 and argument2 would be passed to the super class __init__ method\n",
    "super().__init__(argument1, argument2)   \n",
    "```\n",
    "\n",
    "Hint 2: think about the `get_area` function for each of the classes, can they be simplified using inheritance?"
   ]
  },
  {
   "cell_type": "code",
   "execution_count": null,
   "metadata": {
    "collapsed": true
   },
   "outputs": [],
   "source": []
  },
  {
   "cell_type": "markdown",
   "metadata": {},
   "source": [
    "<ol start=\"2\">\n",
    "<li>Create a right triangle class (make sure to use inheritance!)</li>\n",
    "</ol>"
   ]
  },
  {
   "cell_type": "code",
   "execution_count": null,
   "metadata": {
    "collapsed": true
   },
   "outputs": [],
   "source": []
  },
  {
   "cell_type": "markdown",
   "metadata": {},
   "source": [
    "<ol start=\"3\">\n",
    "<li>Add a function called `get_hypotenuse_length` to your right triangle class.</li>\n",
    "</ol>"
   ]
  },
  {
   "cell_type": "code",
   "execution_count": null,
   "metadata": {
    "collapsed": true
   },
   "outputs": [],
   "source": []
  }
 ],
 "metadata": {
  "kernelspec": {
   "display_name": "Python 3",
   "language": "python",
   "name": "python3"
  },
  "language_info": {
   "codemirror_mode": {
    "name": "ipython",
    "version": 3
   },
   "file_extension": ".py",
   "mimetype": "text/x-python",
   "name": "python",
   "nbconvert_exporter": "python",
   "pygments_lexer": "ipython3",
   "version": "3.6.3"
  }
 },
 "nbformat": 4,
 "nbformat_minor": 2
}
